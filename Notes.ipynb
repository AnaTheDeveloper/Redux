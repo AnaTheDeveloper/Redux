{
 "cells": [
  {
   "cell_type": "markdown",
   "metadata": {
    "vscode": {
     "languageId": "plaintext"
    }
   },
   "source": [
    "React, Redux/Redux ToolKit and React-Redux are seperate things.\n",
    "\n",
    "React is a UI library.\n",
    "Redux is a state management library.\n",
    "Redux tool kit is an abstraction of redux and makes some things easier to use.\n",
    "React-Redux is the middle man between React and Redux/Toolkit."
   ]
  },
  {
   "cell_type": "markdown",
   "metadata": {
    "vscode": {
     "languageId": "plaintext"
    }
   },
   "source": [
    "npm init --yes --> Creates a package.json file with default settings.\n",
    "npm install redux --> Installs Redux Library.\n",
    "Create a index.js file.\n",
    "node index --> Type into terminal."
   ]
  },
  {
   "cell_type": "markdown",
   "metadata": {
    "vscode": {
     "languageId": "plaintext"
    }
   },
   "source": [
    "3 Important Core Concepts in Redux: \n",
    "\n",
    "Store - Holds state of application.\n",
    "Action - Describes what happend in the application.\n",
    "Reducer - Handles the action and decides how to update the state."
   ]
  },
  {
   "cell_type": "markdown",
   "metadata": {},
   "source": [
    "The 3 Principles:\n",
    "\n",
    "1. The global state of your application is stored as an object inside a single store.\n",
    "(Maintain our application state in a single object which would be managed by the Redux store.)\n",
    "\n",
    "2. The only way to change the state is to dispatch an action, an object that describes what happened..\n",
    "(If you want to update the state of your application, you need to let Redux know about that with\n",
    "an action. You are not allowed to directly update the state object.)\n",
    "\n",
    "3. To specify how the state tree is updated based on your actions, you wirte pure reducers.\n",
    "(Pure reducers are basically pure functions that take the previous state and an action as \n",
    "inputs and returns the next state. Being a pure function the reducer instead of \n",
    "updating the previous state should reutnr a new state.)\n",
    "\n",
    "i.e\n",
    "\n",
    "const reducer = (state = initialState, action) => {\n",
    "    switch (action.type) {\n",
    "        case cake_ordered:\n",
    "        return {\n",
    "            numOfCakes: state.numOfCakes -1\n",
    "        };\n",
    "    };\n",
    "};\n",
    "\n",
    "               ------>----- Js App------------->-\n",
    "               |            /                   |\n",
    "            Redux Store _x_/                   Action\n",
    "                |                               |             \n",
    "                -------<--- Reducer ---<---------\n",
    "\n"
   ]
  },
  {
   "cell_type": "markdown",
   "metadata": {},
   "source": [
    "Redux Actions:\n",
    "\n",
    "    - The only way your application can interact with the redux store.\n",
    "    - Carry some info from your application to the redux store.\n",
    "    - plain JS objects.\n",
    "    - Have a 'type' property that describes something that has happened in the application.\n",
    "    - The 'type' property is typically defined as string constants."
   ]
  },
  {
   "cell_type": "markdown",
   "metadata": {},
   "source": [
    "Redux Reducers:\n",
    "\n",
    "    - Specify how the app's state changes in response to actions sent to the store.\n",
    "    - Function that accepts state and action as arguments, and returns the next state of the application."
   ]
  },
  {
   "cell_type": "markdown",
   "metadata": {},
   "source": [
    "Redux Store\n",
    "\n",
    "    - One store for the entire application.\n",
    "\n",
    "Responsibilities:\n",
    "    - Holds application state.\n",
    "    - Allows access to state vis getState(). Gives out application access to the state it holds.\n",
    "    - Allows state to be updated via dispatch(action). Allow any updates to the application state.\n",
    "    - Registers listeners via subscribe(listner).Accepts a function as its argument, which is executed \n",
    "      anytime the state in the redux store changes.\n",
    "    - Handles unregistering of listners via the function returned by subscribe(listner)."
   ]
  },
  {
   "cell_type": "markdown",
   "metadata": {},
   "source": [
    "Line 45 and 48 is where it all starts. \n",
    "\n",
    "The create store method from the redux library accepts a parameter. The reducer function which controls how the state transitions happens and this in turn contains the initial state of the application. Once the store is created we log to the console the state of the application, which is in fact the initial state and this corresponds to our first log statement in the terminal. \n",
    "\n",
    "Initial state is an object where we have a property number of cakes set to 10 after that we set up a listener for the store. So anytime the store updates we log the state to the console. \n",
    "\n",
    "When we dispatch the first action the reducer sees that the action type is cake underscore ordered,\n",
    "it will then try to match this type with the switch cases in the reducer function. It matches the first case and then simply decrements the number of cakes by one and returns the new state.\n",
    "\n",
    "Now that the stores stayed updated, the listener is called which locks to the console the updated state. In the updated state the number of cakes is now 9.\n",
    "\n",
    "At the end we simply unsubscribe to any changes in the store. If you were to dispatch an action after unsubscribing you won't see the lock statement which shows the updated value. This is because we have unsubscribed to changes in the store.\n"
   ]
  },
  {
   "cell_type": "markdown",
   "metadata": {},
   "source": [
    "The Redux Pattern Summary:\n",
    "\n",
    "    - You create a store.\n",
    "    - Declare the initial state and the reducer.\n",
    "    - Define your action and action creators.\n",
    "    - Subscribe to the store.\n",
    "    - Dispatch actions to update the store.\n",
    "    - Unsubscribe to the changes."
   ]
  },
  {
   "cell_type": "markdown",
   "metadata": {},
   "source": [
    "Middleware for Redux\n",
    "\n",
    "    - Is the suggested way to extend redux with custom functionality.\n",
    "    - Providesa third party extension point between dispatching an action, and the moment it reaches the reducer.\n",
    "    - Can be used for logging, crash reporting, perofrming and asyncronous tasks etc.\n",
    "    - Using loggerfor redux to achieve this.\n",
    "\n",
    "    - Import it into your file.\n",
    "    - Pass it as an argument to create store.\n",
    "    - Pass in the middleware to the apply middleware method.\n",
    "    \n",
    "This is how you can extend redux with additional functionality."
   ]
  },
  {
   "cell_type": "markdown",
   "metadata": {},
   "source": [
    "Async Actions\n",
    "\n",
    "Synchronous Actions:\n",
    "    - As soon as an action was dispatched, the state was immediently updated.\n",
    "    - i.e. If you dispatched the CAKE_ORDERED action, the numOfCakes was decrmented by 1.\n",
    "\n",
    "Async Actions:\n",
    "    - Asyncronous actions API calls to fetch data from an endpoint and use that data in your application."
   ]
  },
  {
   "cell_type": "markdown",
   "metadata": {},
   "source": [
    "Immaginary Scenario:\n",
    "\n",
    "We have created an application that fetches a list of users from an API endpoint and stores it in the redux store.\n",
    "\n",
    "Lets see how this would effect the State, Actions and Reducer.\n",
    "\n",
    "State:\n",
    "\n",
    "Typically with state fetching we usually have 3 properties.\n",
    "    - loading: true -> Checking if value has been fetched or not.\n",
    "                    -> loading - Display a spinner in your component. \n",
    "    - data: [] -> data - List of users. Empty to begin with because we dont have any users yet.\n",
    "    - error: '' -> error - Display to user.\n",
    "                -> In this scenario instead of getting back data we get an error, which is then stored \n",
    "                in the error property. This message can be used to display the error to the user.\n",
    "\n",
    "Action: \n",
    "\n",
    "Describes a list of users that have been requested from the API end point. The action type would be FETCH_USERS_REQUIRED. If the data was fetched successfully, we have an action with the type FETCH_USERS_SUCCEEDED.\n",
    "If there was an error when fetching the data we have an action with type FETCH_USERS_ERROR. \n",
    "\n",
    "Reducers:\n",
    "\n",
    "- If the action type is FETCH_USERS_REQUESTED we set the loading: true.\n",
    "- If the action type is FETCH_USERS_SUCCESSFUL we set the loading: false and users: data(from the API).\n",
    "- If the action type is FETCH_USERS_ERROR we set the loading: false and error: 'error' (from the API).\n"
   ]
  },
  {
   "cell_type": "markdown",
   "metadata": {},
   "source": [
    "Making API calls when working with Redux\n",
    "\n",
    "axios - Sends requests to an API end point.\n",
    "\n",
    "redux-thunk - Define asyncronous action creators.\n",
    "            - Middleware.\n",
    "\n",
    "npm i axios redux-thunk"
   ]
  },
  {
   "cell_type": "markdown",
   "metadata": {},
   "source": [
    "Redux Concerns:\n",
    "\n",
    "- Requires too much boiler plate code.\n",
    "    - Action, action object, action creator, switch statement and reducer.\n",
    "- A lot of other packages have to be installed to work with redux.\n",
    "    - Redux-thunk, immer, redux-devtools(debugging tool).\n",
    "\n",
    "There was a need to develop a better user experience. This is where redux tool kit comes into play.\n",
    "\n",
    "Redux-Toolkit:\n",
    "    - Abstracts over the set up process.\n",
    "    - Handle the most common use cases.\n",
    "    - Include some useful utlities.\n",
    "\n"
   ]
  }
 ],
 "metadata": {
  "language_info": {
   "name": "python"
  },
  "orig_nbformat": 4
 },
 "nbformat": 4,
 "nbformat_minor": 2
}
